{
 "cells": [
  {
   "cell_type": "markdown",
   "metadata": {},
   "source": [
    "# Finding the Best Markets to Advertise In\n",
    "Let's assume that we're working for an an e-learning company that offers courses on programming. Most of our courses are on web and mobile development, but we also cover many other domains, like data science, game development, etc. We want to promote our product and we'd like to invest some money in advertisement. Our goal in this project is to find out the two best markets to advertise our product in."
   ]
  },
  {
   "cell_type": "code",
   "execution_count": 1,
   "metadata": {},
   "outputs": [],
   "source": [
    "import pandas as pd\n",
    "import numpy as np\n",
    "from scipy import stats\n",
    "import matplotlib.pyplot as plt\n",
    "import seaborn as sns\n",
    "%matplotlib inline"
   ]
  },
  {
   "cell_type": "code",
   "execution_count": 2,
   "metadata": {},
   "outputs": [],
   "source": [
    "df = pd.read_csv(\"2017-fCC-New-Coders-Survey-Data.csv\", dtype={\"JobInterestOther\": object, \"CodeEventOther\": object})"
   ]
  },
  {
   "cell_type": "markdown",
   "metadata": {},
   "source": [
    "## Exploring the dataset\n",
    "### Look for number of rows and columns"
   ]
  },
  {
   "cell_type": "code",
   "execution_count": 3,
   "metadata": {},
   "outputs": [
    {
     "data": {
      "text/plain": [
       "(18175, 136)"
      ]
     },
     "execution_count": 3,
     "metadata": {},
     "output_type": "execute_result"
    }
   ],
   "source": [
    "df.shape"
   ]
  },
  {
   "cell_type": "markdown",
   "metadata": {},
   "source": [
    "## Print the first five rows"
   ]
  },
  {
   "cell_type": "code",
   "execution_count": 4,
   "metadata": {},
   "outputs": [
    {
     "data": {
      "text/html": [
       "<div>\n",
       "<style scoped>\n",
       "    .dataframe tbody tr th:only-of-type {\n",
       "        vertical-align: middle;\n",
       "    }\n",
       "\n",
       "    .dataframe tbody tr th {\n",
       "        vertical-align: top;\n",
       "    }\n",
       "\n",
       "    .dataframe thead th {\n",
       "        text-align: right;\n",
       "    }\n",
       "</style>\n",
       "<table border=\"1\" class=\"dataframe\">\n",
       "  <thead>\n",
       "    <tr style=\"text-align: right;\">\n",
       "      <th></th>\n",
       "      <th>Age</th>\n",
       "      <th>AttendedBootcamp</th>\n",
       "      <th>BootcampFinish</th>\n",
       "      <th>BootcampLoanYesNo</th>\n",
       "      <th>BootcampName</th>\n",
       "      <th>BootcampRecommend</th>\n",
       "      <th>ChildrenNumber</th>\n",
       "      <th>CityPopulation</th>\n",
       "      <th>CodeEventConferences</th>\n",
       "      <th>CodeEventDjangoGirls</th>\n",
       "      <th>...</th>\n",
       "      <th>YouTubeFCC</th>\n",
       "      <th>YouTubeFunFunFunction</th>\n",
       "      <th>YouTubeGoogleDev</th>\n",
       "      <th>YouTubeLearnCode</th>\n",
       "      <th>YouTubeLevelUpTuts</th>\n",
       "      <th>YouTubeMIT</th>\n",
       "      <th>YouTubeMozillaHacks</th>\n",
       "      <th>YouTubeOther</th>\n",
       "      <th>YouTubeSimplilearn</th>\n",
       "      <th>YouTubeTheNewBoston</th>\n",
       "    </tr>\n",
       "  </thead>\n",
       "  <tbody>\n",
       "    <tr>\n",
       "      <th>0</th>\n",
       "      <td>27.0</td>\n",
       "      <td>0.0</td>\n",
       "      <td>NaN</td>\n",
       "      <td>NaN</td>\n",
       "      <td>NaN</td>\n",
       "      <td>NaN</td>\n",
       "      <td>NaN</td>\n",
       "      <td>more than 1 million</td>\n",
       "      <td>NaN</td>\n",
       "      <td>NaN</td>\n",
       "      <td>...</td>\n",
       "      <td>NaN</td>\n",
       "      <td>NaN</td>\n",
       "      <td>NaN</td>\n",
       "      <td>NaN</td>\n",
       "      <td>NaN</td>\n",
       "      <td>NaN</td>\n",
       "      <td>NaN</td>\n",
       "      <td>NaN</td>\n",
       "      <td>NaN</td>\n",
       "      <td>NaN</td>\n",
       "    </tr>\n",
       "    <tr>\n",
       "      <th>1</th>\n",
       "      <td>34.0</td>\n",
       "      <td>0.0</td>\n",
       "      <td>NaN</td>\n",
       "      <td>NaN</td>\n",
       "      <td>NaN</td>\n",
       "      <td>NaN</td>\n",
       "      <td>NaN</td>\n",
       "      <td>less than 100,000</td>\n",
       "      <td>NaN</td>\n",
       "      <td>NaN</td>\n",
       "      <td>...</td>\n",
       "      <td>1.0</td>\n",
       "      <td>NaN</td>\n",
       "      <td>NaN</td>\n",
       "      <td>NaN</td>\n",
       "      <td>NaN</td>\n",
       "      <td>NaN</td>\n",
       "      <td>NaN</td>\n",
       "      <td>NaN</td>\n",
       "      <td>NaN</td>\n",
       "      <td>NaN</td>\n",
       "    </tr>\n",
       "    <tr>\n",
       "      <th>2</th>\n",
       "      <td>21.0</td>\n",
       "      <td>0.0</td>\n",
       "      <td>NaN</td>\n",
       "      <td>NaN</td>\n",
       "      <td>NaN</td>\n",
       "      <td>NaN</td>\n",
       "      <td>NaN</td>\n",
       "      <td>more than 1 million</td>\n",
       "      <td>NaN</td>\n",
       "      <td>NaN</td>\n",
       "      <td>...</td>\n",
       "      <td>NaN</td>\n",
       "      <td>NaN</td>\n",
       "      <td>NaN</td>\n",
       "      <td>1.0</td>\n",
       "      <td>1.0</td>\n",
       "      <td>NaN</td>\n",
       "      <td>NaN</td>\n",
       "      <td>NaN</td>\n",
       "      <td>NaN</td>\n",
       "      <td>NaN</td>\n",
       "    </tr>\n",
       "    <tr>\n",
       "      <th>3</th>\n",
       "      <td>26.0</td>\n",
       "      <td>0.0</td>\n",
       "      <td>NaN</td>\n",
       "      <td>NaN</td>\n",
       "      <td>NaN</td>\n",
       "      <td>NaN</td>\n",
       "      <td>NaN</td>\n",
       "      <td>between 100,000 and 1 million</td>\n",
       "      <td>NaN</td>\n",
       "      <td>NaN</td>\n",
       "      <td>...</td>\n",
       "      <td>1.0</td>\n",
       "      <td>1.0</td>\n",
       "      <td>NaN</td>\n",
       "      <td>NaN</td>\n",
       "      <td>1.0</td>\n",
       "      <td>NaN</td>\n",
       "      <td>NaN</td>\n",
       "      <td>NaN</td>\n",
       "      <td>NaN</td>\n",
       "      <td>NaN</td>\n",
       "    </tr>\n",
       "    <tr>\n",
       "      <th>4</th>\n",
       "      <td>20.0</td>\n",
       "      <td>0.0</td>\n",
       "      <td>NaN</td>\n",
       "      <td>NaN</td>\n",
       "      <td>NaN</td>\n",
       "      <td>NaN</td>\n",
       "      <td>NaN</td>\n",
       "      <td>between 100,000 and 1 million</td>\n",
       "      <td>NaN</td>\n",
       "      <td>NaN</td>\n",
       "      <td>...</td>\n",
       "      <td>NaN</td>\n",
       "      <td>NaN</td>\n",
       "      <td>NaN</td>\n",
       "      <td>NaN</td>\n",
       "      <td>NaN</td>\n",
       "      <td>NaN</td>\n",
       "      <td>NaN</td>\n",
       "      <td>NaN</td>\n",
       "      <td>NaN</td>\n",
       "      <td>NaN</td>\n",
       "    </tr>\n",
       "  </tbody>\n",
       "</table>\n",
       "<p>5 rows × 136 columns</p>\n",
       "</div>"
      ],
      "text/plain": [
       "    Age  AttendedBootcamp  BootcampFinish  BootcampLoanYesNo BootcampName  \\\n",
       "0  27.0               0.0             NaN                NaN          NaN   \n",
       "1  34.0               0.0             NaN                NaN          NaN   \n",
       "2  21.0               0.0             NaN                NaN          NaN   \n",
       "3  26.0               0.0             NaN                NaN          NaN   \n",
       "4  20.0               0.0             NaN                NaN          NaN   \n",
       "\n",
       "   BootcampRecommend  ChildrenNumber                 CityPopulation  \\\n",
       "0                NaN             NaN            more than 1 million   \n",
       "1                NaN             NaN              less than 100,000   \n",
       "2                NaN             NaN            more than 1 million   \n",
       "3                NaN             NaN  between 100,000 and 1 million   \n",
       "4                NaN             NaN  between 100,000 and 1 million   \n",
       "\n",
       "   CodeEventConferences  CodeEventDjangoGirls  ...  YouTubeFCC  \\\n",
       "0                   NaN                   NaN  ...         NaN   \n",
       "1                   NaN                   NaN  ...         1.0   \n",
       "2                   NaN                   NaN  ...         NaN   \n",
       "3                   NaN                   NaN  ...         1.0   \n",
       "4                   NaN                   NaN  ...         NaN   \n",
       "\n",
       "   YouTubeFunFunFunction  YouTubeGoogleDev  YouTubeLearnCode  \\\n",
       "0                    NaN               NaN               NaN   \n",
       "1                    NaN               NaN               NaN   \n",
       "2                    NaN               NaN               1.0   \n",
       "3                    1.0               NaN               NaN   \n",
       "4                    NaN               NaN               NaN   \n",
       "\n",
       "   YouTubeLevelUpTuts  YouTubeMIT  YouTubeMozillaHacks YouTubeOther  \\\n",
       "0                 NaN         NaN                  NaN          NaN   \n",
       "1                 NaN         NaN                  NaN          NaN   \n",
       "2                 1.0         NaN                  NaN          NaN   \n",
       "3                 1.0         NaN                  NaN          NaN   \n",
       "4                 NaN         NaN                  NaN          NaN   \n",
       "\n",
       "   YouTubeSimplilearn  YouTubeTheNewBoston  \n",
       "0                 NaN                  NaN  \n",
       "1                 NaN                  NaN  \n",
       "2                 NaN                  NaN  \n",
       "3                 NaN                  NaN  \n",
       "4                 NaN                  NaN  \n",
       "\n",
       "[5 rows x 136 columns]"
      ]
     },
     "execution_count": 4,
     "metadata": {},
     "output_type": "execute_result"
    }
   ],
   "source": [
    "df.head()"
   ]
  },
  {
   "cell_type": "markdown",
   "metadata": {},
   "source": [
    "## Try to find relevant columns for the purpose of our analysis."
   ]
  },
  {
   "cell_type": "code",
   "execution_count": 5,
   "metadata": {},
   "outputs": [
    {
     "data": {
      "text/plain": [
       "Index(['BootcampFinish', 'BootcampLoanYesNo', 'BootcampName',\n",
       "       'BootcampRecommend', 'ChildrenNumber', 'CodeEventConferences',\n",
       "       'CodeEventDjangoGirls', 'CodeEventFCC', 'CodeEventGameJam',\n",
       "       'CodeEventGirlDev', 'CodeEventHackathons', 'CodeEventMeetup',\n",
       "       'CodeEventNodeSchool', 'CodeEventNone', 'CodeEventOther',\n",
       "       'CodeEventRailsBridge', 'CodeEventRailsGirls', 'CodeEventStartUpWknd',\n",
       "       'CodeEventWkdBootcamps', 'CodeEventWomenCode', 'CodeEventWorkshops',\n",
       "       'EmploymentFieldOther', 'EmploymentStatusOther', 'GenderOther',\n",
       "       'HomeMortgageOwe', 'JobInterestBackEnd', 'JobInterestDataEngr',\n",
       "       'JobInterestDataSci', 'JobInterestDevOps', 'JobInterestGameDev',\n",
       "       'JobInterestInfoSec', 'JobInterestMobile', 'JobInterestOther',\n",
       "       'JobInterestProjMngr', 'JobInterestQAEngr', 'JobInterestUX',\n",
       "       'PodcastChangeLog', 'PodcastCodeNewbie', 'PodcastCodePen',\n",
       "       'PodcastDevTea', 'PodcastDotNET', 'PodcastGiantRobots', 'PodcastJSAir',\n",
       "       'PodcastJSJabber', 'PodcastNone', 'PodcastOther',\n",
       "       'PodcastProgThrowdown', 'PodcastRubyRogues', 'PodcastSEDaily',\n",
       "       'PodcastSERadio', 'PodcastShopTalk', 'PodcastTalkPython',\n",
       "       'PodcastTheWebAhead', 'ResourceCodeWars', 'ResourceEdX',\n",
       "       'ResourceEgghead', 'ResourceHackerRank', 'ResourceLynda',\n",
       "       'ResourceOdinProj', 'ResourceOther', 'ResourcePluralSight',\n",
       "       'ResourceSkillcrush', 'ResourceTreehouse', 'StudentDebtOwe',\n",
       "       'YouTubeCodeCourse', 'YouTubeCodingTrain', 'YouTubeCodingTut360',\n",
       "       'YouTubeComputerphile', 'YouTubeDerekBanas', 'YouTubeDevTips',\n",
       "       'YouTubeEngineeredTruth', 'YouTubeFunFunFunction', 'YouTubeGoogleDev',\n",
       "       'YouTubeLearnCode', 'YouTubeLevelUpTuts', 'YouTubeMIT',\n",
       "       'YouTubeMozillaHacks', 'YouTubeOther', 'YouTubeSimplilearn',\n",
       "       'YouTubeTheNewBoston'],\n",
       "      dtype='object')"
      ]
     },
     "execution_count": 5,
     "metadata": {},
     "output_type": "execute_result"
    }
   ],
   "source": [
    "df.columns[df.isnull().mean()>0.8]\n",
    "# drop all columns with more than 80 % null values?"
   ]
  },
  {
   "cell_type": "code",
   "execution_count": 6,
   "metadata": {},
   "outputs": [],
   "source": [
    "# We can use `isnull` with mean for treshold and then remove columns by boolean indexing with loc \n",
    "#(because remove columns), also need invert condition - so <.8 means remove all columns >=0.8:\n",
    "df = df.loc[:, df.isnull().mean() < .8]"
   ]
  },
  {
   "cell_type": "code",
   "execution_count": 7,
   "metadata": {},
   "outputs": [
    {
     "data": {
      "text/plain": [
       "(18175, 56)"
      ]
     },
     "execution_count": 7,
     "metadata": {},
     "output_type": "execute_result"
    }
   ],
   "source": [
    "df.shape"
   ]
  },
  {
   "cell_type": "markdown",
   "metadata": {},
   "source": [
    "# Why we're using a ready-made data set instead of organizing a survey.\n",
    "To reach our goal, we could organize surveys for a couple of different markets to find out which would the best choices for advertising. This is very costly, however, and it's a good call to explore cheaper options first.\n",
    "\n",
    "We can try to search existing data that might be relevant for our purpose. One good candidate is the data from freeCodeCamp's 2017 New Coder Survey. freeCodeCamp is a free e-learning platform that offers courses on web development. Because they run a popular Medium publication (over 400,000 followers), their survey attracted new coders with varying interests (not only web development), which is ideal for the purpose of our analysis.\n",
    "\n",
    "The survey data is publicly available in this https://github.com/freeCodeCamp/2017-new-coder-survey repository."
   ]
  },
  {
   "cell_type": "markdown",
   "metadata": {},
   "source": [
    "As we mentioned earlier, most of the courses we offer are on web and mobile development, but we also cover many other domains, like data science, game development, etc. For the purpose of our analysis, we want to answer questions about a population of new coders that are interested in the subjects we teach. We'd like to know:\n",
    "\n",
    "- Where are these new coders located.\n",
    "- What are the locations with the greatest number of new coders.\n",
    "- How much money new coders are willing to spend on learning.\n",
    "\n",
    "Before starting to analyze the sample data we have, we need to clarify whether it's representative for our population of interest and it has the right categories of people for our purpose."
   ]
  },
  {
   "cell_type": "markdown",
   "metadata": {},
   "source": [
    "## Figure out whether the sample we have is representative for our population of interest.\n",
    "### The `JobRoleInterest` column describes for every participant the role(s) they'd be interested in working.\n",
    "### Generate a frequency distribution table for this column. Take percentages instead of absolute frequencies."
   ]
  },
  {
   "cell_type": "code",
   "execution_count": 8,
   "metadata": {},
   "outputs": [
    {
     "data": {
      "text/plain": [
       "Full-Stack Web Developer                                                                                                                 11.770595\n",
       "  Front-End Web Developer                                                                                                                 6.435927\n",
       "  Data Scientist                                                                                                                          2.173913\n",
       "Back-End Web Developer                                                                                                                    2.030892\n",
       "  Mobile Developer                                                                                                                        1.673341\n",
       "                                                                                                                                           ...    \n",
       "Back-End Web Developer, Full-Stack Web Developer,   DevOps / SysAdmin, Game Developer, Data Engineer                                      0.014302\n",
       "Full-Stack Web Developer, Information Security,   Front-End Web Developer, Back-End Web Developer, Game Developer,   Mobile Developer     0.014302\n",
       "  Front-End Web Developer, Game Developer, Full-Stack Web Developer,   Product Manager,   User Experience Designer                        0.014302\n",
       "Back-End Web Developer,   Front-End Web Developer,   Data Scientist,   Product Manager, Full-Stack Web Developer                          0.014302\n",
       "  Front-End Web Developer,   Product Manager, Back-End Web Developer,   User Experience Designer, Full-Stack Web Developer                0.014302\n",
       "Name: JobRoleInterest, Length: 3213, dtype: float64"
      ]
     },
     "execution_count": 8,
     "metadata": {},
     "output_type": "execute_result"
    }
   ],
   "source": [
    "df.JobRoleInterest.value_counts(normalize=True)*100"
   ]
  },
  {
   "cell_type": "markdown",
   "metadata": {},
   "source": [
    "## Analyze the table.\n",
    "\n",
    "### Are people interested in only one subject or they can be interested in more than one subject?\n",
    "There are over 3000 rows indicating that responders were able to choose more than one answer for this question. YES, ppl can be interested in more than one subject\n",
    "### If most people are interested in more than one subject, is this sample still representative?\n",
    "Not unless we extract and summarize all subjects from multiple interests\n",
    "### The focus of our courses is on web and mobile development. How many people are interested in at least one of these two subjects?\n",
    "There are 6035 respondents interested in either web or mobile"
   ]
  },
  {
   "cell_type": "code",
   "execution_count": 9,
   "metadata": {},
   "outputs": [],
   "source": [
    "no_nulls = df.dropna(subset=['JobRoleInterest', 'CountryLive'])"
   ]
  },
  {
   "cell_type": "code",
   "execution_count": 10,
   "metadata": {},
   "outputs": [
    {
     "data": {
      "text/html": [
       "<div>\n",
       "<style scoped>\n",
       "    .dataframe tbody tr th:only-of-type {\n",
       "        vertical-align: middle;\n",
       "    }\n",
       "\n",
       "    .dataframe tbody tr th {\n",
       "        vertical-align: top;\n",
       "    }\n",
       "\n",
       "    .dataframe thead th {\n",
       "        text-align: right;\n",
       "    }\n",
       "</style>\n",
       "<table border=\"1\" class=\"dataframe\">\n",
       "  <thead>\n",
       "    <tr style=\"text-align: right;\">\n",
       "      <th></th>\n",
       "      <th>Age</th>\n",
       "      <th>AttendedBootcamp</th>\n",
       "      <th>CityPopulation</th>\n",
       "      <th>CommuteTime</th>\n",
       "      <th>CountryCitizen</th>\n",
       "      <th>CountryLive</th>\n",
       "      <th>EmploymentField</th>\n",
       "      <th>EmploymentStatus</th>\n",
       "      <th>ExpectedEarning</th>\n",
       "      <th>FinanciallySupporting</th>\n",
       "      <th>...</th>\n",
       "      <th>ResourceFCC</th>\n",
       "      <th>ResourceKA</th>\n",
       "      <th>ResourceMDN</th>\n",
       "      <th>ResourceSO</th>\n",
       "      <th>ResourceUdacity</th>\n",
       "      <th>ResourceUdemy</th>\n",
       "      <th>ResourceW3S</th>\n",
       "      <th>SchoolDegree</th>\n",
       "      <th>SchoolMajor</th>\n",
       "      <th>YouTubeFCC</th>\n",
       "    </tr>\n",
       "  </thead>\n",
       "  <tbody>\n",
       "    <tr>\n",
       "      <th>1</th>\n",
       "      <td>34.0</td>\n",
       "      <td>0.0</td>\n",
       "      <td>less than 100,000</td>\n",
       "      <td>NaN</td>\n",
       "      <td>United States of America</td>\n",
       "      <td>United States of America</td>\n",
       "      <td>NaN</td>\n",
       "      <td>Not working but looking for work</td>\n",
       "      <td>35000.0</td>\n",
       "      <td>NaN</td>\n",
       "      <td>...</td>\n",
       "      <td>1.0</td>\n",
       "      <td>NaN</td>\n",
       "      <td>NaN</td>\n",
       "      <td>1.0</td>\n",
       "      <td>NaN</td>\n",
       "      <td>1.0</td>\n",
       "      <td>1.0</td>\n",
       "      <td>some college credit, no degree</td>\n",
       "      <td>NaN</td>\n",
       "      <td>1.0</td>\n",
       "    </tr>\n",
       "    <tr>\n",
       "      <th>2</th>\n",
       "      <td>21.0</td>\n",
       "      <td>0.0</td>\n",
       "      <td>more than 1 million</td>\n",
       "      <td>15 to 29 minutes</td>\n",
       "      <td>United States of America</td>\n",
       "      <td>United States of America</td>\n",
       "      <td>software development and IT</td>\n",
       "      <td>Employed for wages</td>\n",
       "      <td>70000.0</td>\n",
       "      <td>NaN</td>\n",
       "      <td>...</td>\n",
       "      <td>1.0</td>\n",
       "      <td>NaN</td>\n",
       "      <td>1.0</td>\n",
       "      <td>NaN</td>\n",
       "      <td>1.0</td>\n",
       "      <td>1.0</td>\n",
       "      <td>NaN</td>\n",
       "      <td>high school diploma or equivalent (GED)</td>\n",
       "      <td>NaN</td>\n",
       "      <td>NaN</td>\n",
       "    </tr>\n",
       "    <tr>\n",
       "      <th>3</th>\n",
       "      <td>26.0</td>\n",
       "      <td>0.0</td>\n",
       "      <td>between 100,000 and 1 million</td>\n",
       "      <td>I work from home</td>\n",
       "      <td>Brazil</td>\n",
       "      <td>Brazil</td>\n",
       "      <td>software development and IT</td>\n",
       "      <td>Employed for wages</td>\n",
       "      <td>40000.0</td>\n",
       "      <td>0.0</td>\n",
       "      <td>...</td>\n",
       "      <td>1.0</td>\n",
       "      <td>NaN</td>\n",
       "      <td>1.0</td>\n",
       "      <td>1.0</td>\n",
       "      <td>NaN</td>\n",
       "      <td>NaN</td>\n",
       "      <td>NaN</td>\n",
       "      <td>some college credit, no degree</td>\n",
       "      <td>NaN</td>\n",
       "      <td>1.0</td>\n",
       "    </tr>\n",
       "    <tr>\n",
       "      <th>4</th>\n",
       "      <td>20.0</td>\n",
       "      <td>0.0</td>\n",
       "      <td>between 100,000 and 1 million</td>\n",
       "      <td>NaN</td>\n",
       "      <td>Portugal</td>\n",
       "      <td>Portugal</td>\n",
       "      <td>NaN</td>\n",
       "      <td>Not working but looking for work</td>\n",
       "      <td>140000.0</td>\n",
       "      <td>NaN</td>\n",
       "      <td>...</td>\n",
       "      <td>NaN</td>\n",
       "      <td>NaN</td>\n",
       "      <td>NaN</td>\n",
       "      <td>1.0</td>\n",
       "      <td>NaN</td>\n",
       "      <td>NaN</td>\n",
       "      <td>NaN</td>\n",
       "      <td>bachelor's degree</td>\n",
       "      <td>Information Technology</td>\n",
       "      <td>NaN</td>\n",
       "    </tr>\n",
       "    <tr>\n",
       "      <th>6</th>\n",
       "      <td>29.0</td>\n",
       "      <td>0.0</td>\n",
       "      <td>between 100,000 and 1 million</td>\n",
       "      <td>30 to 44 minutes</td>\n",
       "      <td>United Kingdom</td>\n",
       "      <td>United Kingdom</td>\n",
       "      <td>NaN</td>\n",
       "      <td>Employed for wages</td>\n",
       "      <td>30000.0</td>\n",
       "      <td>NaN</td>\n",
       "      <td>...</td>\n",
       "      <td>1.0</td>\n",
       "      <td>NaN</td>\n",
       "      <td>NaN</td>\n",
       "      <td>1.0</td>\n",
       "      <td>NaN</td>\n",
       "      <td>NaN</td>\n",
       "      <td>1.0</td>\n",
       "      <td>some college credit, no degree</td>\n",
       "      <td>NaN</td>\n",
       "      <td>NaN</td>\n",
       "    </tr>\n",
       "  </tbody>\n",
       "</table>\n",
       "<p>5 rows × 56 columns</p>\n",
       "</div>"
      ],
      "text/plain": [
       "    Age  AttendedBootcamp                 CityPopulation       CommuteTime  \\\n",
       "1  34.0               0.0              less than 100,000               NaN   \n",
       "2  21.0               0.0            more than 1 million  15 to 29 minutes   \n",
       "3  26.0               0.0  between 100,000 and 1 million  I work from home   \n",
       "4  20.0               0.0  between 100,000 and 1 million               NaN   \n",
       "6  29.0               0.0  between 100,000 and 1 million  30 to 44 minutes   \n",
       "\n",
       "             CountryCitizen               CountryLive  \\\n",
       "1  United States of America  United States of America   \n",
       "2  United States of America  United States of America   \n",
       "3                    Brazil                    Brazil   \n",
       "4                  Portugal                  Portugal   \n",
       "6            United Kingdom            United Kingdom   \n",
       "\n",
       "               EmploymentField                  EmploymentStatus  \\\n",
       "1                          NaN  Not working but looking for work   \n",
       "2  software development and IT                Employed for wages   \n",
       "3  software development and IT                Employed for wages   \n",
       "4                          NaN  Not working but looking for work   \n",
       "6                          NaN                Employed for wages   \n",
       "\n",
       "   ExpectedEarning  FinanciallySupporting  ...  ResourceFCC ResourceKA  \\\n",
       "1          35000.0                    NaN  ...          1.0        NaN   \n",
       "2          70000.0                    NaN  ...          1.0        NaN   \n",
       "3          40000.0                    0.0  ...          1.0        NaN   \n",
       "4         140000.0                    NaN  ...          NaN        NaN   \n",
       "6          30000.0                    NaN  ...          1.0        NaN   \n",
       "\n",
       "   ResourceMDN  ResourceSO  ResourceUdacity  ResourceUdemy  ResourceW3S  \\\n",
       "1          NaN         1.0              NaN            1.0          1.0   \n",
       "2          1.0         NaN              1.0            1.0          NaN   \n",
       "3          1.0         1.0              NaN            NaN          NaN   \n",
       "4          NaN         1.0              NaN            NaN          NaN   \n",
       "6          NaN         1.0              NaN            NaN          1.0   \n",
       "\n",
       "                              SchoolDegree             SchoolMajor  YouTubeFCC  \n",
       "1           some college credit, no degree                     NaN         1.0  \n",
       "2  high school diploma or equivalent (GED)                     NaN         NaN  \n",
       "3           some college credit, no degree                     NaN         1.0  \n",
       "4                        bachelor's degree  Information Technology         NaN  \n",
       "6           some college credit, no degree                     NaN         NaN  \n",
       "\n",
       "[5 rows x 56 columns]"
      ]
     },
     "execution_count": 10,
     "metadata": {},
     "output_type": "execute_result"
    }
   ],
   "source": [
    "web_mobile = no_nulls[no_nulls.JobRoleInterest.str.contains(\"Web\", case=False)| no_nulls.JobRoleInterest.str.contains(\"Mobile\", case=False)].copy()\n",
    "web_mobile.head()"
   ]
  },
  {
   "cell_type": "code",
   "execution_count": 11,
   "metadata": {},
   "outputs": [
    {
     "data": {
      "image/png": "[encoded data removed]",
      "text/plain": [
       "<Figure size 1440x1080 with 2 Axes>"
      ]
     },
     "metadata": {
      "needs_background": "light"
     },
     "output_type": "display_data"
    }
   ],
   "source": [
    "corr = no_nulls.corr()\n",
    "fig, ax = plt.subplots(figsize = (20,15))\n",
    "ax = sns.heatmap(corr)\n",
    "plt.show()"
   ]
  },
  {
   "cell_type": "code",
   "execution_count": 12,
   "metadata": {},
   "outputs": [
    {
     "data": {
      "image/png": "[encoded data removed]",
      "text/plain": [
       "<Figure size 432x288 with 1 Axes>"
      ]
     },
     "metadata": {
      "needs_background": "light"
     },
     "output_type": "display_data"
    }
   ],
   "source": [
    "filt_web = df.JobRoleInterest.str.contains(\"Web\", case=False)\n",
    "filt_mob = df.JobRoleInterest.str.contains(\"Mobile\", case=False)\n",
    "filt_other = ((df.JobRoleInterest.str.contains(\"Web\", case=False))|(df.JobRoleInterest.str.contains(\"Mobile\",case=False)))\n",
    "\n",
    "webs = filt_web.sum()\n",
    "mobs = filt_mob.sum()\n",
    "other = len(df.JobRoleInterest[~filt_other])-(webs+mobs)\n",
    "dicts = {\"Web Devs\":webs,\"Mobile Devs\":mobs, \"Other\":other}\n",
    "plt.bar(dicts.keys(), dicts.values())\n",
    "plt.show()"
   ]
  },
  {
   "cell_type": "markdown",
   "metadata": {},
   "source": [
    "Now that we found out that the sample has the right categories of people for our purpose, we can begin analyzing it. We can start with finding out where these new coders are located, and what are the densities (how many coderes there are) for each location.\n",
    "\n",
    "The data set provides information about the location of each participant at a country level. The `CountryCitizen` variable describes the country of origin for each participant, and the `CountryLiv` variable describes what country each participants lives in (which may be different than the origin country).\n",
    "\n",
    "For our analysis, we'll work with the `CountryLiv` variable because we're interested where people actually live at the moment when we run the ads. In other words, we're interested where people are located, not where they were born.\n",
    "\n",
    "Because the data set provides information at a country level, we can think of each country as an individual market. This means we can frame our goal as finding the two best countries to advertise in.\n",
    "\n",
    "One indicator of a good market is the number of potential customers — the more potential customers in a market, the better. If our ads manage to convince 10% of the 5000 potential customers in market A to buy our product, then this is better than convincing 100% of the 30 potential customers in market B."
   ]
  },
  {
   "cell_type": "markdown",
   "metadata": {},
   "source": [
    "## Generate a frequency table for the CountryLive variable.\n",
    "- Generate both absolute and relative frequencies.\n",
    "- Analyze the results."
   ]
  },
  {
   "cell_type": "code",
   "execution_count": 13,
   "metadata": {},
   "outputs": [],
   "source": [
    "countries = web_mobile.CountryLive.value_counts()\n",
    "countries_norm = web_mobile.CountryLive.value_counts(normalize=True)*100"
   ]
  },
  {
   "cell_type": "markdown",
   "metadata": {},
   "source": [
    "- Based on the results, what are the two markets you'd choose for advertisement?\n",
    "- Can we stop the analysis here, or we need to go more in depth?"
   ]
  },
  {
   "cell_type": "code",
   "execution_count": 14,
   "metadata": {},
   "outputs": [
    {
     "data": {
      "text/plain": [
       "United States of America    2678\n",
       "India                        443\n",
       "United Kingdom               281\n",
       "Canada                       221\n",
       "Poland                       121\n",
       "Name: CountryLive, dtype: int64"
      ]
     },
     "execution_count": 14,
     "metadata": {},
     "output_type": "execute_result"
    }
   ],
   "source": [
    "countries.head()"
   ]
  },
  {
   "cell_type": "code",
   "execution_count": 15,
   "metadata": {},
   "outputs": [
    {
     "data": {
      "text/plain": [
       "United States of America    45.336042\n",
       "India                        7.499577\n",
       "United Kingdom               4.757068\n",
       "Canada                       3.741324\n",
       "Poland                       2.048417\n",
       "Name: CountryLive, dtype: float64"
      ]
     },
     "execution_count": 15,
     "metadata": {},
     "output_type": "execute_result"
    }
   ],
   "source": [
    "countries_norm.head()"
   ]
  },
  {
   "cell_type": "markdown",
   "metadata": {},
   "source": [
    "## the two best markets relatively and absolutely are USA and India"
   ]
  },
  {
   "cell_type": "markdown",
   "metadata": {},
   "source": [
    "Previously, we found useful information about the location of new coders, and what are the countries where new coders live, but we need to go more in depth with our analysis before taking a decision. We can continue by figuring out how much money new coders are actually willing to spend on learning. Advertising within markets where most people are only willing to learn for free is extremely unlikely to be profitable for us.\n",
    "\n",
    "The `MoneyForLearnin` column describes in American dollars the amount of money spent by participants from the moment they started coding until the moment they completed the survey. Our company sells subscriptions at a price of $59 per month, and for this reason we're interested in finding out how much money each student spends per month.\n",
    "\n",
    "It also seems like a good idea to narrow down our analysis to only four countries: the US, India, the United Kingdom, and Canada. Two reasons for this decision are:\n",
    "\n",
    "- These are the countries having the highest absolute frequencies in our sample, which means we have a decent amount of data for each.\n",
    "- Our courses are written in English, and English is an official language in all these four countries. The more people that know English, the better our chances to target the right people with our ads."
   ]
  },
  {
   "cell_type": "markdown",
   "metadata": {},
   "source": [
    "## Create a new column that describes the amount of money a student has spent per month (at the moment they completed the survey).\n",
    "- You'll need to divide the `MoneyForLearning` column to the `MonthsProgramming` column.\n",
    "- Some students answered that they had been learning to code for 0 months (it might be that they had just started when they completed the survey). To avoid dividing by 0, replace all the values of 0 with 1."
   ]
  },
  {
   "cell_type": "code",
   "execution_count": 16,
   "metadata": {},
   "outputs": [
    {
     "data": {
      "text/html": [
       "<div>\n",
       "<style scoped>\n",
       "    .dataframe tbody tr th:only-of-type {\n",
       "        vertical-align: middle;\n",
       "    }\n",
       "\n",
       "    .dataframe tbody tr th {\n",
       "        vertical-align: top;\n",
       "    }\n",
       "\n",
       "    .dataframe thead th {\n",
       "        text-align: right;\n",
       "    }\n",
       "</style>\n",
       "<table border=\"1\" class=\"dataframe\">\n",
       "  <thead>\n",
       "    <tr style=\"text-align: right;\">\n",
       "      <th></th>\n",
       "      <th>Age</th>\n",
       "      <th>AttendedBootcamp</th>\n",
       "      <th>CityPopulation</th>\n",
       "      <th>CommuteTime</th>\n",
       "      <th>CountryCitizen</th>\n",
       "      <th>CountryLive</th>\n",
       "      <th>EmploymentField</th>\n",
       "      <th>EmploymentStatus</th>\n",
       "      <th>ExpectedEarning</th>\n",
       "      <th>FinanciallySupporting</th>\n",
       "      <th>...</th>\n",
       "      <th>ResourceKA</th>\n",
       "      <th>ResourceMDN</th>\n",
       "      <th>ResourceSO</th>\n",
       "      <th>ResourceUdacity</th>\n",
       "      <th>ResourceUdemy</th>\n",
       "      <th>ResourceW3S</th>\n",
       "      <th>SchoolDegree</th>\n",
       "      <th>SchoolMajor</th>\n",
       "      <th>YouTubeFCC</th>\n",
       "      <th>spent_monthly</th>\n",
       "    </tr>\n",
       "  </thead>\n",
       "  <tbody>\n",
       "    <tr>\n",
       "      <th>1</th>\n",
       "      <td>34.0</td>\n",
       "      <td>0.0</td>\n",
       "      <td>less than 100,000</td>\n",
       "      <td>NaN</td>\n",
       "      <td>United States of America</td>\n",
       "      <td>United States of America</td>\n",
       "      <td>NaN</td>\n",
       "      <td>Not working but looking for work</td>\n",
       "      <td>35000.0</td>\n",
       "      <td>NaN</td>\n",
       "      <td>...</td>\n",
       "      <td>NaN</td>\n",
       "      <td>NaN</td>\n",
       "      <td>1.0</td>\n",
       "      <td>NaN</td>\n",
       "      <td>1.0</td>\n",
       "      <td>1.0</td>\n",
       "      <td>some college credit, no degree</td>\n",
       "      <td>NaN</td>\n",
       "      <td>1.0</td>\n",
       "      <td>13.33</td>\n",
       "    </tr>\n",
       "    <tr>\n",
       "      <th>2</th>\n",
       "      <td>21.0</td>\n",
       "      <td>0.0</td>\n",
       "      <td>more than 1 million</td>\n",
       "      <td>15 to 29 minutes</td>\n",
       "      <td>United States of America</td>\n",
       "      <td>United States of America</td>\n",
       "      <td>software development and IT</td>\n",
       "      <td>Employed for wages</td>\n",
       "      <td>70000.0</td>\n",
       "      <td>NaN</td>\n",
       "      <td>...</td>\n",
       "      <td>NaN</td>\n",
       "      <td>1.0</td>\n",
       "      <td>NaN</td>\n",
       "      <td>1.0</td>\n",
       "      <td>1.0</td>\n",
       "      <td>NaN</td>\n",
       "      <td>high school diploma or equivalent (GED)</td>\n",
       "      <td>NaN</td>\n",
       "      <td>NaN</td>\n",
       "      <td>200.00</td>\n",
       "    </tr>\n",
       "    <tr>\n",
       "      <th>3</th>\n",
       "      <td>26.0</td>\n",
       "      <td>0.0</td>\n",
       "      <td>between 100,000 and 1 million</td>\n",
       "      <td>I work from home</td>\n",
       "      <td>Brazil</td>\n",
       "      <td>Brazil</td>\n",
       "      <td>software development and IT</td>\n",
       "      <td>Employed for wages</td>\n",
       "      <td>40000.0</td>\n",
       "      <td>0.0</td>\n",
       "      <td>...</td>\n",
       "      <td>NaN</td>\n",
       "      <td>1.0</td>\n",
       "      <td>1.0</td>\n",
       "      <td>NaN</td>\n",
       "      <td>NaN</td>\n",
       "      <td>NaN</td>\n",
       "      <td>some college credit, no degree</td>\n",
       "      <td>NaN</td>\n",
       "      <td>1.0</td>\n",
       "      <td>0.00</td>\n",
       "    </tr>\n",
       "    <tr>\n",
       "      <th>4</th>\n",
       "      <td>20.0</td>\n",
       "      <td>0.0</td>\n",
       "      <td>between 100,000 and 1 million</td>\n",
       "      <td>NaN</td>\n",
       "      <td>Portugal</td>\n",
       "      <td>Portugal</td>\n",
       "      <td>NaN</td>\n",
       "      <td>Not working but looking for work</td>\n",
       "      <td>140000.0</td>\n",
       "      <td>NaN</td>\n",
       "      <td>...</td>\n",
       "      <td>NaN</td>\n",
       "      <td>NaN</td>\n",
       "      <td>1.0</td>\n",
       "      <td>NaN</td>\n",
       "      <td>NaN</td>\n",
       "      <td>NaN</td>\n",
       "      <td>bachelor's degree</td>\n",
       "      <td>Information Technology</td>\n",
       "      <td>NaN</td>\n",
       "      <td>0.00</td>\n",
       "    </tr>\n",
       "    <tr>\n",
       "      <th>6</th>\n",
       "      <td>29.0</td>\n",
       "      <td>0.0</td>\n",
       "      <td>between 100,000 and 1 million</td>\n",
       "      <td>30 to 44 minutes</td>\n",
       "      <td>United Kingdom</td>\n",
       "      <td>United Kingdom</td>\n",
       "      <td>NaN</td>\n",
       "      <td>Employed for wages</td>\n",
       "      <td>30000.0</td>\n",
       "      <td>NaN</td>\n",
       "      <td>...</td>\n",
       "      <td>NaN</td>\n",
       "      <td>NaN</td>\n",
       "      <td>1.0</td>\n",
       "      <td>NaN</td>\n",
       "      <td>NaN</td>\n",
       "      <td>1.0</td>\n",
       "      <td>some college credit, no degree</td>\n",
       "      <td>NaN</td>\n",
       "      <td>NaN</td>\n",
       "      <td>0.00</td>\n",
       "    </tr>\n",
       "  </tbody>\n",
       "</table>\n",
       "<p>5 rows × 57 columns</p>\n",
       "</div>"
      ],
      "text/plain": [
       "    Age  AttendedBootcamp                 CityPopulation       CommuteTime  \\\n",
       "1  34.0               0.0              less than 100,000               NaN   \n",
       "2  21.0               0.0            more than 1 million  15 to 29 minutes   \n",
       "3  26.0               0.0  between 100,000 and 1 million  I work from home   \n",
       "4  20.0               0.0  between 100,000 and 1 million               NaN   \n",
       "6  29.0               0.0  between 100,000 and 1 million  30 to 44 minutes   \n",
       "\n",
       "             CountryCitizen               CountryLive  \\\n",
       "1  United States of America  United States of America   \n",
       "2  United States of America  United States of America   \n",
       "3                    Brazil                    Brazil   \n",
       "4                  Portugal                  Portugal   \n",
       "6            United Kingdom            United Kingdom   \n",
       "\n",
       "               EmploymentField                  EmploymentStatus  \\\n",
       "1                          NaN  Not working but looking for work   \n",
       "2  software development and IT                Employed for wages   \n",
       "3  software development and IT                Employed for wages   \n",
       "4                          NaN  Not working but looking for work   \n",
       "6                          NaN                Employed for wages   \n",
       "\n",
       "   ExpectedEarning  FinanciallySupporting  ...  ResourceKA ResourceMDN  \\\n",
       "1          35000.0                    NaN  ...         NaN         NaN   \n",
       "2          70000.0                    NaN  ...         NaN         1.0   \n",
       "3          40000.0                    0.0  ...         NaN         1.0   \n",
       "4         140000.0                    NaN  ...         NaN         NaN   \n",
       "6          30000.0                    NaN  ...         NaN         NaN   \n",
       "\n",
       "   ResourceSO  ResourceUdacity  ResourceUdemy  ResourceW3S  \\\n",
       "1         1.0              NaN            1.0          1.0   \n",
       "2         NaN              1.0            1.0          NaN   \n",
       "3         1.0              NaN            NaN          NaN   \n",
       "4         1.0              NaN            NaN          NaN   \n",
       "6         1.0              NaN            NaN          1.0   \n",
       "\n",
       "                              SchoolDegree             SchoolMajor  \\\n",
       "1           some college credit, no degree                     NaN   \n",
       "2  high school diploma or equivalent (GED)                     NaN   \n",
       "3           some college credit, no degree                     NaN   \n",
       "4                        bachelor's degree  Information Technology   \n",
       "6           some college credit, no degree                     NaN   \n",
       "\n",
       "   YouTubeFCC  spent_monthly  \n",
       "1         1.0          13.33  \n",
       "2         NaN         200.00  \n",
       "3         1.0           0.00  \n",
       "4         NaN           0.00  \n",
       "6         NaN           0.00  \n",
       "\n",
       "[5 rows x 57 columns]"
      ]
     },
     "execution_count": 16,
     "metadata": {},
     "output_type": "execute_result"
    }
   ],
   "source": [
    "web_mobile.MonthsProgramming.replace(0,1, inplace=True)\n",
    "web_mobile[\"spent_monthly\"] = round((web_mobile.MoneyForLearning/web_mobile.MonthsProgramming),2)\n",
    "web_mobile.head()"
   ]
  },
  {
   "cell_type": "markdown",
   "metadata": {},
   "source": [
    "## Find out how many null values there are in the new column (the column describing the amount of money students spend per month)."
   ]
  },
  {
   "cell_type": "code",
   "execution_count": 17,
   "metadata": {},
   "outputs": [
    {
     "data": {
      "text/plain": [
       "2540"
      ]
     },
     "execution_count": 17,
     "metadata": {},
     "output_type": "execute_result"
    }
   ],
   "source": [
    "web_mobile.spent_monthly.isnull().sum()\n",
    "zeros = (web_mobile.spent_monthly.eq(0))\n",
    "web_mobile.spent_monthly.eq(0).sum()"
   ]
  },
  {
   "cell_type": "code",
   "execution_count": 18,
   "metadata": {},
   "outputs": [],
   "source": [
    "# there seem to be 2407 students who don´t spend any money per month"
   ]
  },
  {
   "cell_type": "markdown",
   "metadata": {},
   "source": [
    "## Keep only the rows that don't have a null value for the new column."
   ]
  },
  {
   "cell_type": "code",
   "execution_count": 19,
   "metadata": {},
   "outputs": [
    {
     "data": {
      "text/html": [
       "<div>\n",
       "<style scoped>\n",
       "    .dataframe tbody tr th:only-of-type {\n",
       "        vertical-align: middle;\n",
       "    }\n",
       "\n",
       "    .dataframe tbody tr th {\n",
       "        vertical-align: top;\n",
       "    }\n",
       "\n",
       "    .dataframe thead th {\n",
       "        text-align: right;\n",
       "    }\n",
       "</style>\n",
       "<table border=\"1\" class=\"dataframe\">\n",
       "  <thead>\n",
       "    <tr style=\"text-align: right;\">\n",
       "      <th></th>\n",
       "      <th>Age</th>\n",
       "      <th>AttendedBootcamp</th>\n",
       "      <th>ExpectedEarning</th>\n",
       "      <th>FinanciallySupporting</th>\n",
       "      <th>FirstDevJob</th>\n",
       "      <th>HasChildren</th>\n",
       "      <th>HasDebt</th>\n",
       "      <th>HasFinancialDependents</th>\n",
       "      <th>HasHighSpdInternet</th>\n",
       "      <th>HasHomeMortgage</th>\n",
       "      <th>...</th>\n",
       "      <th>ResourceCSS</th>\n",
       "      <th>ResourceFCC</th>\n",
       "      <th>ResourceKA</th>\n",
       "      <th>ResourceMDN</th>\n",
       "      <th>ResourceSO</th>\n",
       "      <th>ResourceUdacity</th>\n",
       "      <th>ResourceUdemy</th>\n",
       "      <th>ResourceW3S</th>\n",
       "      <th>YouTubeFCC</th>\n",
       "      <th>spent_monthly</th>\n",
       "    </tr>\n",
       "  </thead>\n",
       "  <tbody>\n",
       "    <tr>\n",
       "      <th>count</th>\n",
       "      <td>3321.000000</td>\n",
       "      <td>3307.00000</td>\n",
       "      <td>2978.000000</td>\n",
       "      <td>798.000000</td>\n",
       "      <td>0.0</td>\n",
       "      <td>801.000000</td>\n",
       "      <td>3311.000000</td>\n",
       "      <td>3312.000000</td>\n",
       "      <td>3333.000000</td>\n",
       "      <td>1582.000000</td>\n",
       "      <td>...</td>\n",
       "      <td>1043.0</td>\n",
       "      <td>2783.0</td>\n",
       "      <td>758.0</td>\n",
       "      <td>1384.0</td>\n",
       "      <td>2197.0</td>\n",
       "      <td>829.0</td>\n",
       "      <td>1327.0</td>\n",
       "      <td>1885.0</td>\n",
       "      <td>1325.0</td>\n",
       "      <td>2840.000000</td>\n",
       "    </tr>\n",
       "    <tr>\n",
       "      <th>mean</th>\n",
       "      <td>28.898223</td>\n",
       "      <td>0.09495</td>\n",
       "      <td>53489.701478</td>\n",
       "      <td>0.214286</td>\n",
       "      <td>NaN</td>\n",
       "      <td>0.656679</td>\n",
       "      <td>0.481728</td>\n",
       "      <td>0.242452</td>\n",
       "      <td>0.890789</td>\n",
       "      <td>0.260430</td>\n",
       "      <td>...</td>\n",
       "      <td>1.0</td>\n",
       "      <td>1.0</td>\n",
       "      <td>1.0</td>\n",
       "      <td>1.0</td>\n",
       "      <td>1.0</td>\n",
       "      <td>1.0</td>\n",
       "      <td>1.0</td>\n",
       "      <td>1.0</td>\n",
       "      <td>1.0</td>\n",
       "      <td>366.204602</td>\n",
       "    </tr>\n",
       "    <tr>\n",
       "      <th>std</th>\n",
       "      <td>8.557488</td>\n",
       "      <td>0.29319</td>\n",
       "      <td>55042.858501</td>\n",
       "      <td>0.410583</td>\n",
       "      <td>NaN</td>\n",
       "      <td>0.475114</td>\n",
       "      <td>0.499741</td>\n",
       "      <td>0.428631</td>\n",
       "      <td>0.311950</td>\n",
       "      <td>0.439008</td>\n",
       "      <td>...</td>\n",
       "      <td>0.0</td>\n",
       "      <td>0.0</td>\n",
       "      <td>0.0</td>\n",
       "      <td>0.0</td>\n",
       "      <td>0.0</td>\n",
       "      <td>0.0</td>\n",
       "      <td>0.0</td>\n",
       "      <td>0.0</td>\n",
       "      <td>0.0</td>\n",
       "      <td>2297.878976</td>\n",
       "    </tr>\n",
       "    <tr>\n",
       "      <th>min</th>\n",
       "      <td>0.000000</td>\n",
       "      <td>0.00000</td>\n",
       "      <td>6000.000000</td>\n",
       "      <td>0.000000</td>\n",
       "      <td>NaN</td>\n",
       "      <td>0.000000</td>\n",
       "      <td>0.000000</td>\n",
       "      <td>0.000000</td>\n",
       "      <td>0.000000</td>\n",
       "      <td>0.000000</td>\n",
       "      <td>...</td>\n",
       "      <td>1.0</td>\n",
       "      <td>1.0</td>\n",
       "      <td>1.0</td>\n",
       "      <td>1.0</td>\n",
       "      <td>1.0</td>\n",
       "      <td>1.0</td>\n",
       "      <td>1.0</td>\n",
       "      <td>1.0</td>\n",
       "      <td>1.0</td>\n",
       "      <td>0.030000</td>\n",
       "    </tr>\n",
       "    <tr>\n",
       "      <th>25%</th>\n",
       "      <td>23.000000</td>\n",
       "      <td>0.00000</td>\n",
       "      <td>30000.000000</td>\n",
       "      <td>0.000000</td>\n",
       "      <td>NaN</td>\n",
       "      <td>0.000000</td>\n",
       "      <td>0.000000</td>\n",
       "      <td>0.000000</td>\n",
       "      <td>1.000000</td>\n",
       "      <td>0.000000</td>\n",
       "      <td>...</td>\n",
       "      <td>1.0</td>\n",
       "      <td>1.0</td>\n",
       "      <td>1.0</td>\n",
       "      <td>1.0</td>\n",
       "      <td>1.0</td>\n",
       "      <td>1.0</td>\n",
       "      <td>1.0</td>\n",
       "      <td>1.0</td>\n",
       "      <td>1.0</td>\n",
       "      <td>8.330000</td>\n",
       "    </tr>\n",
       "    <tr>\n",
       "      <th>50%</th>\n",
       "      <td>27.000000</td>\n",
       "      <td>0.00000</td>\n",
       "      <td>50000.000000</td>\n",
       "      <td>0.000000</td>\n",
       "      <td>NaN</td>\n",
       "      <td>1.000000</td>\n",
       "      <td>0.000000</td>\n",
       "      <td>0.000000</td>\n",
       "      <td>1.000000</td>\n",
       "      <td>0.000000</td>\n",
       "      <td>...</td>\n",
       "      <td>1.0</td>\n",
       "      <td>1.0</td>\n",
       "      <td>1.0</td>\n",
       "      <td>1.0</td>\n",
       "      <td>1.0</td>\n",
       "      <td>1.0</td>\n",
       "      <td>1.0</td>\n",
       "      <td>1.0</td>\n",
       "      <td>1.0</td>\n",
       "      <td>31.250000</td>\n",
       "    </tr>\n",
       "    <tr>\n",
       "      <th>75%</th>\n",
       "      <td>33.000000</td>\n",
       "      <td>0.00000</td>\n",
       "      <td>65000.000000</td>\n",
       "      <td>0.000000</td>\n",
       "      <td>NaN</td>\n",
       "      <td>1.000000</td>\n",
       "      <td>1.000000</td>\n",
       "      <td>0.000000</td>\n",
       "      <td>1.000000</td>\n",
       "      <td>1.000000</td>\n",
       "      <td>...</td>\n",
       "      <td>1.0</td>\n",
       "      <td>1.0</td>\n",
       "      <td>1.0</td>\n",
       "      <td>1.0</td>\n",
       "      <td>1.0</td>\n",
       "      <td>1.0</td>\n",
       "      <td>1.0</td>\n",
       "      <td>1.0</td>\n",
       "      <td>1.0</td>\n",
       "      <td>125.000000</td>\n",
       "    </tr>\n",
       "    <tr>\n",
       "      <th>max</th>\n",
       "      <td>71.000000</td>\n",
       "      <td>1.00000</td>\n",
       "      <td>1000000.000000</td>\n",
       "      <td>1.000000</td>\n",
       "      <td>NaN</td>\n",
       "      <td>1.000000</td>\n",
       "      <td>1.000000</td>\n",
       "      <td>1.000000</td>\n",
       "      <td>1.000000</td>\n",
       "      <td>1.000000</td>\n",
       "      <td>...</td>\n",
       "      <td>1.0</td>\n",
       "      <td>1.0</td>\n",
       "      <td>1.0</td>\n",
       "      <td>1.0</td>\n",
       "      <td>1.0</td>\n",
       "      <td>1.0</td>\n",
       "      <td>1.0</td>\n",
       "      <td>1.0</td>\n",
       "      <td>1.0</td>\n",
       "      <td>80000.000000</td>\n",
       "    </tr>\n",
       "  </tbody>\n",
       "</table>\n",
       "<p>8 rows × 35 columns</p>\n",
       "</div>"
      ],
      "text/plain": [
       "               Age  AttendedBootcamp  ExpectedEarning  FinanciallySupporting  \\\n",
       "count  3321.000000        3307.00000      2978.000000             798.000000   \n",
       "mean     28.898223           0.09495     53489.701478               0.214286   \n",
       "std       8.557488           0.29319     55042.858501               0.410583   \n",
       "min       0.000000           0.00000      6000.000000               0.000000   \n",
       "25%      23.000000           0.00000     30000.000000               0.000000   \n",
       "50%      27.000000           0.00000     50000.000000               0.000000   \n",
       "75%      33.000000           0.00000     65000.000000               0.000000   \n",
       "max      71.000000           1.00000   1000000.000000               1.000000   \n",
       "\n",
       "       FirstDevJob  HasChildren      HasDebt  HasFinancialDependents  \\\n",
       "count          0.0   801.000000  3311.000000             3312.000000   \n",
       "mean           NaN     0.656679     0.481728                0.242452   \n",
       "std            NaN     0.475114     0.499741                0.428631   \n",
       "min            NaN     0.000000     0.000000                0.000000   \n",
       "25%            NaN     0.000000     0.000000                0.000000   \n",
       "50%            NaN     1.000000     0.000000                0.000000   \n",
       "75%            NaN     1.000000     1.000000                0.000000   \n",
       "max            NaN     1.000000     1.000000                1.000000   \n",
       "\n",
       "       HasHighSpdInternet  HasHomeMortgage  ...  ResourceCSS  ResourceFCC  \\\n",
       "count         3333.000000      1582.000000  ...       1043.0       2783.0   \n",
       "mean             0.890789         0.260430  ...          1.0          1.0   \n",
       "std              0.311950         0.439008  ...          0.0          0.0   \n",
       "min              0.000000         0.000000  ...          1.0          1.0   \n",
       "25%              1.000000         0.000000  ...          1.0          1.0   \n",
       "50%              1.000000         0.000000  ...          1.0          1.0   \n",
       "75%              1.000000         1.000000  ...          1.0          1.0   \n",
       "max              1.000000         1.000000  ...          1.0          1.0   \n",
       "\n",
       "       ResourceKA  ResourceMDN  ResourceSO  ResourceUdacity  ResourceUdemy  \\\n",
       "count       758.0       1384.0      2197.0            829.0         1327.0   \n",
       "mean          1.0          1.0         1.0              1.0            1.0   \n",
       "std           0.0          0.0         0.0              0.0            0.0   \n",
       "min           1.0          1.0         1.0              1.0            1.0   \n",
       "25%           1.0          1.0         1.0              1.0            1.0   \n",
       "50%           1.0          1.0         1.0              1.0            1.0   \n",
       "75%           1.0          1.0         1.0              1.0            1.0   \n",
       "max           1.0          1.0         1.0              1.0            1.0   \n",
       "\n",
       "       ResourceW3S  YouTubeFCC  spent_monthly  \n",
       "count       1885.0      1325.0    2840.000000  \n",
       "mean           1.0         1.0     366.204602  \n",
       "std            0.0         0.0    2297.878976  \n",
       "min            1.0         1.0       0.030000  \n",
       "25%            1.0         1.0       8.330000  \n",
       "50%            1.0         1.0      31.250000  \n",
       "75%            1.0         1.0     125.000000  \n",
       "max            1.0         1.0   80000.000000  \n",
       "\n",
       "[8 rows x 35 columns]"
      ]
     },
     "execution_count": 19,
     "metadata": {},
     "output_type": "execute_result"
    }
   ],
   "source": [
    "no_zeros = web_mobile[~zeros].copy()\n",
    "# also remove MonthsProgramming rows that have 0 to prevent Division by zero\n",
    "no_months = (no_zeros.MonthsProgramming.eq(0))\n",
    "no_zeros = no_zeros[~no_months].copy()\n",
    "no_zeros.describe()"
   ]
  },
  {
   "cell_type": "markdown",
   "metadata": {},
   "source": [
    "## Remove also any rows that have null values in the `CountryLive` column."
   ]
  },
  {
   "cell_type": "code",
   "execution_count": 20,
   "metadata": {},
   "outputs": [
    {
     "data": {
      "text/plain": [
       "0"
      ]
     },
     "execution_count": 20,
     "metadata": {},
     "output_type": "execute_result"
    }
   ],
   "source": [
    "no_zeros.CountryLive.isna().sum()"
   ]
  },
  {
   "cell_type": "markdown",
   "metadata": {},
   "source": [
    "## Group the remaining data by the `CountryLive` column and find out how much money a student spends on average each month in the US, India, the United Kingdom and Canada.\n",
    "- You can use the `DataFrame.groupby()` method.\n",
    "- As a summary metric, we recommend choosing the mean to take into account all values in the distributions. You can also compute the median or the mode to see how they compare with the mean.\n",
    "- Analyze the results. Is there anything in the results that looks off?"
   ]
  },
  {
   "cell_type": "code",
   "execution_count": 21,
   "metadata": {},
   "outputs": [
    {
     "data": {
      "text/plain": [
       "CountryLive\n",
       "Yemen          10000.000000\n",
       "Puerto Rico     7508.157500\n",
       "Austria         1872.416250\n",
       "Spain           1552.985455\n",
       "Norway           952.578000\n",
       "                   ...     \n",
       "Bolivia                 NaN\n",
       "Liberia                 NaN\n",
       "Panama                  NaN\n",
       "Qatar                   NaN\n",
       "Sudan                   NaN\n",
       "Name: spent_monthly, Length: 117, dtype: float64"
      ]
     },
     "execution_count": 21,
     "metadata": {},
     "output_type": "execute_result"
    }
   ],
   "source": [
    "spent_per_country = no_zeros.groupby(\"CountryLive\").mean()[\"spent_monthly\"]\n",
    "spent_per_country.sort_values(ascending=False)"
   ]
  },
  {
   "cell_type": "code",
   "execution_count": 22,
   "metadata": {},
   "outputs": [
    {
     "data": {
      "text/plain": [
       "count     2840.000000\n",
       "mean       366.204602\n",
       "std       2297.878976\n",
       "min          0.030000\n",
       "25%          8.330000\n",
       "50%         31.250000\n",
       "75%        125.000000\n",
       "max      80000.000000\n",
       "Name: spent_monthly, dtype: float64"
      ]
     },
     "execution_count": 22,
     "metadata": {},
     "output_type": "execute_result"
    }
   ],
   "source": [
    "no_zeros.describe()[\"spent_monthly\"]"
   ]
  },
  {
   "cell_type": "code",
   "execution_count": 23,
   "metadata": {},
   "outputs": [],
   "source": [
    "# concentrate on the top 4 countries: USA, India, UK and Canada\n",
    "india = no_zeros.CountryLive == \"India\"\n",
    "usa = no_zeros.CountryLive == \"United States of America\"\n",
    "uk = no_zeros.CountryLive == \"United Kingdom\"\n",
    "canada = no_zeros.CountryLive == \"Canada\" #3327 rows\n",
    "\n",
    "india_spent = no_zeros.loc[india]\n",
    "usa_spent = no_zeros.loc[usa]\n",
    "uk_spent = no_zeros.loc[uk]\n",
    "canada_spent = no_zeros.loc[canada]"
   ]
  },
  {
   "cell_type": "code",
   "execution_count": 49,
   "metadata": {},
   "outputs": [],
   "source": [
    "top_spenders = pd.concat([india_spent, usa_spent, uk_spent, canada_spent], axis = 0).copy()\n",
    "monthly_spenders = top_spenders.groupby(\"CountryLive\").mean()[\"spent_monthly\"]"
   ]
  },
  {
   "cell_type": "code",
   "execution_count": 50,
   "metadata": {},
   "outputs": [
    {
     "data": {
      "text/plain": [
       "CountryLive\n",
       "United States of America    437.498746\n",
       "India                       339.052294\n",
       "Canada                      254.579612\n",
       "United Kingdom               97.055760\n",
       "Name: spent_monthly, dtype: float64"
      ]
     },
     "execution_count": 50,
     "metadata": {},
     "output_type": "execute_result"
    }
   ],
   "source": [
    "monthly_spenders.sort_values(ascending=False)"
   ]
  },
  {
   "cell_type": "markdown",
   "metadata": {},
   "source": [
    "## expected mean values\n",
    "\n",
    "|CountryLive||\n",
    "|------|------|\n",
    "|United States of America    |227.997996|\n",
    "|India                       |135.100982|\n",
    "|United Kingdom              | 45.534443|\n",
    "|Canada                      |113.510961|\n",
    "\n",
    "Name: money_per_month, dtype: float64\n",
    "### note:\n",
    "I was using the filtered down dataset `web_mobile` from the moment it has been decided to focus on these interests. The solution seems to be using the entirety of the dataset for the means"
   ]
  },
  {
   "cell_type": "code",
   "execution_count": 51,
   "metadata": {},
   "outputs": [
    {
     "data": {
      "image/png": "[encoded data removed]",
      "text/plain": [
       "<Figure size 432x288 with 1 Axes>"
      ]
     },
     "metadata": {
      "needs_background": "light"
     },
     "output_type": "display_data"
    }
   ],
   "source": [
    "monthly_spenders.plot(kind=\"barh\")\n",
    "plt.show()"
   ]
  },
  {
   "cell_type": "markdown",
   "metadata": {},
   "source": [
    "The results for the United Kingdom and Canada are surprisingly low relative to the values we see for India. If we considered a few socio-economical metrics (like GDP per capita), we'd intuitively expect people in the UK and Canada to spend more on learning than people in India.\n",
    "\n",
    "It might be that we don't have have enough representative data for the United Kingdom, Canada, and India, or we have some outliers (maybe coming from wrong survey answers) making the mean too big for India, or too low for the UK and Canada. Or it might be that the results are correct."
   ]
  },
  {
   "cell_type": "markdown",
   "metadata": {},
   "source": [
    "### Generate four box plots on the same figure to visualize for each country (the US, India, the United Kingdom, Canada) the distribution of the variable that describes how much money each participant had spent per month.\n",
    "- Can you spot extreme outliers for India, Canada or the United Kingdom?\n",
    "- If not, what extreme outliers can you spot?"
   ]
  },
  {
   "cell_type": "code",
   "execution_count": 52,
   "metadata": {},
   "outputs": [
    {
     "data": {
      "image/png": "[encoded data removed]",
      "text/plain": [
       "<Figure size 720x720 with 1 Axes>"
      ]
     },
     "metadata": {
      "needs_background": "light"
     },
     "output_type": "display_data"
    }
   ],
   "source": [
    "fig, ax = plt.subplots(figsize=(10,10))\n",
    "ax = sns.boxplot(x=\"spent_monthly\", y=\"CountryLive\", data=top_spenders, orient = \"h\")\n",
    "plt.show()"
   ]
  },
  {
   "cell_type": "code",
   "execution_count": 53,
   "metadata": {},
   "outputs": [],
   "source": [
    "# most extreme outliers are within USA"
   ]
  },
  {
   "cell_type": "markdown",
   "metadata": {},
   "source": [
    "### Eliminate the extreme outliers."
   ]
  },
  {
   "cell_type": "code",
   "execution_count": 54,
   "metadata": {},
   "outputs": [
    {
     "data": {
      "text/plain": [
       "CountryLive\n",
       "Canada                      25.00\n",
       "India                       20.00\n",
       "United Kingdom              20.83\n",
       "United States of America    33.33\n",
       "Name: spent_monthly, dtype: float64"
      ]
     },
     "execution_count": 54,
     "metadata": {},
     "output_type": "execute_result"
    }
   ],
   "source": [
    "medians = top_spenders.groupby(\"CountryLive\").median()[\"spent_monthly\"]\n",
    "medians"
   ]
  },
  {
   "cell_type": "code",
   "execution_count": 55,
   "metadata": {},
   "outputs": [
    {
     "data": {
      "text/plain": [
       "CountryLive\n",
       "Canada                      254.579612\n",
       "India                       339.052294\n",
       "United Kingdom               97.055760\n",
       "United States of America    437.498746\n",
       "Name: spent_monthly, dtype: float64"
      ]
     },
     "execution_count": 55,
     "metadata": {},
     "output_type": "execute_result"
    }
   ],
   "source": [
    "means = top_spenders.groupby(\"CountryLive\").mean()[\"spent_monthly\"]\n",
    "means"
   ]
  },
  {
   "cell_type": "code",
   "execution_count": 56,
   "metadata": {},
   "outputs": [
    {
     "data": {
      "text/plain": [
       "CountryLive\n",
       "Canada                       646.326554\n",
       "India                       1109.380724\n",
       "United Kingdom               231.547616\n",
       "United States of America    2740.425116\n",
       "Name: spent_monthly, dtype: float64"
      ]
     },
     "execution_count": 56,
     "metadata": {},
     "output_type": "execute_result"
    }
   ],
   "source": [
    "sdts = top_spenders.groupby(\"CountryLive\").std()[\"spent_monthly\"]\n",
    "sdts\n"
   ]
  },
  {
   "cell_type": "markdown",
   "metadata": {},
   "source": [
    "## define outliers\n",
    "1. Data point that falls outside of 1,5 times of an interquartile range above the 3rd quartile and below the 1st quartile\n",
    "2. data point that falls outside of 3 standard deviations. we can use a z-score and if the z-score falls outside of 2 STDs it´s considered an outlier"
   ]
  },
  {
   "cell_type": "code",
   "execution_count": 57,
   "metadata": {},
   "outputs": [],
   "source": [
    "outliers = []\n",
    "def detect_outliers(data):\n",
    "    thresh = 3\n",
    "    mean = np.mean(data)\n",
    "    std = np.std(data)\n",
    "    \n",
    "    for i in data:\n",
    "        z_score = (i-mean)/std\n",
    "        if np.abs(z_score) > thresh:\n",
    "            outliers.append(i)\n",
    "    return outliers"
   ]
  },
  {
   "cell_type": "code",
   "execution_count": 58,
   "metadata": {},
   "outputs": [],
   "source": [
    "outs = detect_outliers(top_spenders.spent_monthly)"
   ]
  },
  {
   "cell_type": "code",
   "execution_count": 68,
   "metadata": {},
   "outputs": [
    {
     "data": {
      "text/plain": [
       "8000.0"
      ]
     },
     "execution_count": 68,
     "metadata": {},
     "output_type": "execute_result"
    }
   ],
   "source": [
    "min(outs)"
   ]
  },
  {
   "cell_type": "code",
   "execution_count": 76,
   "metadata": {},
   "outputs": [
    {
     "data": {
      "text/plain": [
       "count     1833.000000\n",
       "mean       394.873573\n",
       "std       2455.136829\n",
       "min          0.030000\n",
       "25%         10.000000\n",
       "50%         33.330000\n",
       "75%        166.670000\n",
       "max      80000.000000\n",
       "Name: spent_monthly, dtype: float64"
      ]
     },
     "execution_count": 76,
     "metadata": {},
     "output_type": "execute_result"
    }
   ],
   "source": [
    "top_spenders.spent_monthly.describe()"
   ]
  },
  {
   "cell_type": "code",
   "execution_count": 86,
   "metadata": {},
   "outputs": [
    {
     "data": {
      "text/html": [
       "<div>\n",
       "<style scoped>\n",
       "    .dataframe tbody tr th:only-of-type {\n",
       "        vertical-align: middle;\n",
       "    }\n",
       "\n",
       "    .dataframe tbody tr th {\n",
       "        vertical-align: top;\n",
       "    }\n",
       "\n",
       "    .dataframe thead th {\n",
       "        text-align: right;\n",
       "    }\n",
       "</style>\n",
       "<table border=\"1\" class=\"dataframe\">\n",
       "  <thead>\n",
       "    <tr style=\"text-align: right;\">\n",
       "      <th></th>\n",
       "      <th>Age</th>\n",
       "      <th>AttendedBootcamp</th>\n",
       "      <th>CityPopulation</th>\n",
       "      <th>CommuteTime</th>\n",
       "      <th>CountryCitizen</th>\n",
       "      <th>CountryLive</th>\n",
       "      <th>EmploymentField</th>\n",
       "      <th>EmploymentStatus</th>\n",
       "      <th>ExpectedEarning</th>\n",
       "      <th>FinanciallySupporting</th>\n",
       "      <th>...</th>\n",
       "      <th>ResourceMDN</th>\n",
       "      <th>ResourceSO</th>\n",
       "      <th>ResourceUdacity</th>\n",
       "      <th>ResourceUdemy</th>\n",
       "      <th>ResourceW3S</th>\n",
       "      <th>SchoolDegree</th>\n",
       "      <th>SchoolMajor</th>\n",
       "      <th>YouTubeFCC</th>\n",
       "      <th>spent_monthly</th>\n",
       "      <th>outliers</th>\n",
       "    </tr>\n",
       "  </thead>\n",
       "  <tbody>\n",
       "    <tr>\n",
       "      <th>137</th>\n",
       "      <td>21.0</td>\n",
       "      <td>0.0</td>\n",
       "      <td>less than 100,000</td>\n",
       "      <td>NaN</td>\n",
       "      <td>India</td>\n",
       "      <td>India</td>\n",
       "      <td>NaN</td>\n",
       "      <td>Not working but looking for work</td>\n",
       "      <td>10000.0</td>\n",
       "      <td>NaN</td>\n",
       "      <td>...</td>\n",
       "      <td>1.0</td>\n",
       "      <td>NaN</td>\n",
       "      <td>1.0</td>\n",
       "      <td>NaN</td>\n",
       "      <td>NaN</td>\n",
       "      <td>bachelor's degree</td>\n",
       "      <td>Computer Science</td>\n",
       "      <td>1.0</td>\n",
       "      <td>18.75</td>\n",
       "      <td>False</td>\n",
       "    </tr>\n",
       "    <tr>\n",
       "      <th>168</th>\n",
       "      <td>16.0</td>\n",
       "      <td>0.0</td>\n",
       "      <td>more than 1 million</td>\n",
       "      <td>NaN</td>\n",
       "      <td>India</td>\n",
       "      <td>India</td>\n",
       "      <td>NaN</td>\n",
       "      <td>Not working and not looking for work</td>\n",
       "      <td>700000.0</td>\n",
       "      <td>NaN</td>\n",
       "      <td>...</td>\n",
       "      <td>NaN</td>\n",
       "      <td>NaN</td>\n",
       "      <td>1.0</td>\n",
       "      <td>NaN</td>\n",
       "      <td>NaN</td>\n",
       "      <td>high school diploma or equivalent (GED)</td>\n",
       "      <td>NaN</td>\n",
       "      <td>NaN</td>\n",
       "      <td>0.42</td>\n",
       "      <td>False</td>\n",
       "    </tr>\n",
       "    <tr>\n",
       "      <th>230</th>\n",
       "      <td>19.0</td>\n",
       "      <td>0.0</td>\n",
       "      <td>between 100,000 and 1 million</td>\n",
       "      <td>NaN</td>\n",
       "      <td>India</td>\n",
       "      <td>India</td>\n",
       "      <td>NaN</td>\n",
       "      <td>Not working but looking for work</td>\n",
       "      <td>100000.0</td>\n",
       "      <td>NaN</td>\n",
       "      <td>...</td>\n",
       "      <td>1.0</td>\n",
       "      <td>1.0</td>\n",
       "      <td>1.0</td>\n",
       "      <td>1.0</td>\n",
       "      <td>NaN</td>\n",
       "      <td>high school diploma or equivalent (GED)</td>\n",
       "      <td>NaN</td>\n",
       "      <td>NaN</td>\n",
       "      <td>4.74</td>\n",
       "      <td>False</td>\n",
       "    </tr>\n",
       "    <tr>\n",
       "      <th>529</th>\n",
       "      <td>20.0</td>\n",
       "      <td>0.0</td>\n",
       "      <td>more than 1 million</td>\n",
       "      <td>NaN</td>\n",
       "      <td>India</td>\n",
       "      <td>India</td>\n",
       "      <td>NaN</td>\n",
       "      <td>Not working but looking for work</td>\n",
       "      <td>20000.0</td>\n",
       "      <td>NaN</td>\n",
       "      <td>...</td>\n",
       "      <td>1.0</td>\n",
       "      <td>1.0</td>\n",
       "      <td>NaN</td>\n",
       "      <td>NaN</td>\n",
       "      <td>NaN</td>\n",
       "      <td>bachelor's degree</td>\n",
       "      <td>NaN</td>\n",
       "      <td>1.0</td>\n",
       "      <td>33.33</td>\n",
       "      <td>False</td>\n",
       "    </tr>\n",
       "    <tr>\n",
       "      <th>1522</th>\n",
       "      <td>23.0</td>\n",
       "      <td>0.0</td>\n",
       "      <td>between 100,000 and 1 million</td>\n",
       "      <td>NaN</td>\n",
       "      <td>India</td>\n",
       "      <td>India</td>\n",
       "      <td>NaN</td>\n",
       "      <td>Not working but looking for work</td>\n",
       "      <td>8500.0</td>\n",
       "      <td>NaN</td>\n",
       "      <td>...</td>\n",
       "      <td>NaN</td>\n",
       "      <td>1.0</td>\n",
       "      <td>1.0</td>\n",
       "      <td>1.0</td>\n",
       "      <td>NaN</td>\n",
       "      <td>bachelor's degree</td>\n",
       "      <td>Information Technology</td>\n",
       "      <td>1.0</td>\n",
       "      <td>87.50</td>\n",
       "      <td>False</td>\n",
       "    </tr>\n",
       "  </tbody>\n",
       "</table>\n",
       "<p>5 rows × 58 columns</p>\n",
       "</div>"
      ],
      "text/plain": [
       "       Age  AttendedBootcamp                 CityPopulation CommuteTime  \\\n",
       "137   21.0               0.0              less than 100,000         NaN   \n",
       "168   16.0               0.0            more than 1 million         NaN   \n",
       "230   19.0               0.0  between 100,000 and 1 million         NaN   \n",
       "529   20.0               0.0            more than 1 million         NaN   \n",
       "1522  23.0               0.0  between 100,000 and 1 million         NaN   \n",
       "\n",
       "     CountryCitizen CountryLive EmploymentField  \\\n",
       "137           India       India             NaN   \n",
       "168           India       India             NaN   \n",
       "230           India       India             NaN   \n",
       "529           India       India             NaN   \n",
       "1522          India       India             NaN   \n",
       "\n",
       "                          EmploymentStatus  ExpectedEarning  \\\n",
       "137       Not working but looking for work          10000.0   \n",
       "168   Not working and not looking for work         700000.0   \n",
       "230       Not working but looking for work         100000.0   \n",
       "529       Not working but looking for work          20000.0   \n",
       "1522      Not working but looking for work           8500.0   \n",
       "\n",
       "      FinanciallySupporting  ...  ResourceMDN ResourceSO  ResourceUdacity  \\\n",
       "137                     NaN  ...          1.0        NaN              1.0   \n",
       "168                     NaN  ...          NaN        NaN              1.0   \n",
       "230                     NaN  ...          1.0        1.0              1.0   \n",
       "529                     NaN  ...          1.0        1.0              NaN   \n",
       "1522                    NaN  ...          NaN        1.0              1.0   \n",
       "\n",
       "      ResourceUdemy  ResourceW3S                             SchoolDegree  \\\n",
       "137             NaN          NaN                        bachelor's degree   \n",
       "168             NaN          NaN  high school diploma or equivalent (GED)   \n",
       "230             1.0          NaN  high school diploma or equivalent (GED)   \n",
       "529             NaN          NaN                        bachelor's degree   \n",
       "1522            1.0          NaN                        bachelor's degree   \n",
       "\n",
       "                 SchoolMajor  YouTubeFCC  spent_monthly  outliers  \n",
       "137         Computer Science         1.0          18.75     False  \n",
       "168                      NaN         NaN           0.42     False  \n",
       "230                      NaN         NaN           4.74     False  \n",
       "529                      NaN         1.0          33.33     False  \n",
       "1522  Information Technology         1.0          87.50     False  \n",
       "\n",
       "[5 rows x 58 columns]"
      ]
     },
     "execution_count": 86,
     "metadata": {},
     "output_type": "execute_result"
    }
   ],
   "source": [
    "no_outs = top_spenders[top_spenders['spent_monthly']<100]\n",
    "no_outs.head()"
   ]
  },
  {
   "cell_type": "code",
   "execution_count": 87,
   "metadata": {},
   "outputs": [
    {
     "data": {
      "image/png": "[encoded data removed]",
      "text/plain": [
       "<Figure size 720x720 with 1 Axes>"
      ]
     },
     "metadata": {
      "needs_background": "light"
     },
     "output_type": "display_data"
    }
   ],
   "source": [
    "fig, ax = plt.subplots(figsize=(10,10))\n",
    "ax = sns.boxplot(x=\"spent_monthly\", y=\"CountryLive\", data=no_outs, orient = \"h\")\n",
    "plt.show()"
   ]
  },
  {
   "cell_type": "markdown",
   "metadata": {},
   "source": [
    "### Recompute the mean values, just like we did in the previous screen: group the data by the CountryLive column, and then find out how much money a student spends on average each month in the US, India, the United Kingdom and Canada.\n",
    "- If the mean values still look off, look more for extreme outliers. For instance, you can find a couple of persons in India who spend $5000 per month. Isolate these respondents and examine their answers to other questions in the survey to figure out whether these big expenses with learning are justified — you can try to find out whether they attended any bootcamp, which might justify the large amount of money spent.\n",
    "- If you find more extreme outliers, remove them, and recompute the mean values.\n",
    "- If you get stuck, you can always sneak a look at the solution notebook.\n",
    "### Is it clear enough at this point what are the two best countries to choose for advertisement?"
   ]
  },
  {
   "cell_type": "code",
   "execution_count": 88,
   "metadata": {},
   "outputs": [
    {
     "data": {
      "text/plain": [
       "count    1255.000000\n",
       "mean       23.615426\n",
       "std        22.910184\n",
       "min         0.030000\n",
       "25%         5.830000\n",
       "50%        16.670000\n",
       "75%        33.330000\n",
       "max        92.000000\n",
       "Name: spent_monthly, dtype: float64"
      ]
     },
     "execution_count": 88,
     "metadata": {},
     "output_type": "execute_result"
    }
   ],
   "source": [
    "no_outs.spent_monthly.describe()"
   ]
  },
  {
   "cell_type": "code",
   "execution_count": 95,
   "metadata": {},
   "outputs": [
    {
     "data": {
      "text/plain": [
       "CountryLive\n",
       "United Kingdom              24.911100\n",
       "United States of America    24.259251\n",
       "Canada                      21.242466\n",
       "India                       18.862893\n",
       "Name: spent_monthly, dtype: float64"
      ]
     },
     "execution_count": 95,
     "metadata": {},
     "output_type": "execute_result"
    }
   ],
   "source": [
    "top_no_outs = no_outs.groupby(\"CountryLive\").mean()[\"spent_monthly\"]\n",
    "top_no_outs.sort_values(ascending = False)"
   ]
  },
  {
   "cell_type": "markdown",
   "metadata": {},
   "source": [
    "### Top 2 countries are USA and UK"
   ]
  },
  {
   "cell_type": "markdown",
   "metadata": {},
   "source": []
  },
  {
   "cell_type": "code",
   "execution_count": null,
   "metadata": {},
   "outputs": [],
   "source": []
  }
 ],
 "metadata": {
  "kernelspec": {
   "display_name": "Python 3",
   "language": "python",
   "name": "python3"
  },
  "language_info": {
   "codemirror_mode": {
    "name": "ipython",
    "version": 3
   },
   "file_extension": ".py",
   "mimetype": "text/x-python",
   "name": "python",
   "nbconvert_exporter": "python",
   "pygments_lexer": "ipython3",
   "version": "3.7.3"
  }
 },
 "nbformat": 4,
 "nbformat_minor": 2
}
